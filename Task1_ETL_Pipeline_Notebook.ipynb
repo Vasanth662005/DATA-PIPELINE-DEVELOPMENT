{
 "cells": [
  {
   "cell_type": "markdown",
   "id": "42aa1785",
   "metadata": {},
   "source": [
    "# 🚀 Internship Task 1: ETL Pipeline for Pothole Detection Data\n",
    "This notebook demonstrates an ETL (Extract-Transform-Load) pipeline using `pandas` and `scikit-learn` for a YOLOv10 model output dataset."
   ]
  },
  {
   "cell_type": "markdown",
   "id": "7ad08980",
   "metadata": {},
   "source": [
    "## 📥 Step 1: Extract — Load the Dataset"
   ]
  },
  {
   "cell_type": "code",
   "execution_count": null,
   "id": "84cee1f5",
   "metadata": {},
   "outputs": [],
   "source": [
    "import pandas as pd\n",
    "\n",
    "# Load the dataset\n",
    "df = pd.read_csv('YOLOv10results.csv')\n",
    "\n",
    "# Basic inspection\n",
    "print(\"First 5 rows of the dataset:\")\n",
    "print(df.head())\n",
    "print(\"\\nDataset Info:\")\n",
    "print(df.info())\n",
    "print(\"\\nMissing values:\")\n",
    "print(df.isnull().sum())"
   ]
  },
  {
   "cell_type": "markdown",
   "id": "edb38b3f",
   "metadata": {},
   "source": [
    "## 🔧 Step 2: Transform — Preprocess and Scale the Data"
   ]
  },
  {
   "cell_type": "code",
   "execution_count": null,
   "id": "e42c7903",
   "metadata": {},
   "outputs": [],
   "source": [
    "from sklearn.model_selection import train_test_split\n",
    "from sklearn.preprocessing import StandardScaler\n",
    "\n",
    "# Clean column names\n",
    "df.columns = df.columns.str.strip()\n",
    "\n",
    "# Define features and target\n",
    "X = df.drop(columns=['epoch', 'metrics/mAP50(B)'])\n",
    "y = df['metrics/mAP50(B)']\n",
    "\n",
    "# Split the data\n",
    "X_train, X_test, y_train, y_test = train_test_split(X, y, test_size=0.2, random_state=42)\n",
    "\n",
    "# Scale features\n",
    "scaler = StandardScaler()\n",
    "X_train_scaled = scaler.fit_transform(X_train)\n",
    "X_test_scaled = scaler.transform(X_test)\n",
    "\n",
    "print(\"[OK] Data transformed and scaled.\")\n",
    "print(\"X_train_scaled shape:\", X_train_scaled.shape)"
   ]
  },
  {
   "cell_type": "markdown",
   "id": "1219895d",
   "metadata": {},
   "source": [
    "## 💾 Step 3: Load — Save the Transformed Data and Scaler"
   ]
  },
  {
   "cell_type": "code",
   "execution_count": null,
   "id": "b339aba4",
   "metadata": {},
   "outputs": [],
   "source": [
    "import joblib\n",
    "\n",
    "# Convert arrays to DataFrames for CSV saving\n",
    "X_train_df = pd.DataFrame(X_train_scaled, columns=X.columns)\n",
    "X_test_df = pd.DataFrame(X_test_scaled, columns=X.columns)\n",
    "\n",
    "# Save datasets\n",
    "X_train_df.to_csv('X_train_scaled.csv', index=False)\n",
    "X_test_df.to_csv('X_test_scaled.csv', index=False)\n",
    "y_train.to_csv('y_train.csv', index=False)\n",
    "y_test.to_csv('y_test.csv', index=False)\n",
    "\n",
    "# Save scaler\n",
    "joblib.dump(scaler, 'scaler.pkl')\n",
    "\n",
    "print(\"[OK] Files saved successfully.\")"
   ]
  }
 ],
 "metadata": {},
 "nbformat": 4,
 "nbformat_minor": 5
}
